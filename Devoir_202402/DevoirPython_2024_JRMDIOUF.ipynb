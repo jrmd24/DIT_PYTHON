{
 "cells": [
  {
   "cell_type": "markdown",
   "metadata": {},
   "source": [
    "**DIT/Master 1 IA**                         03/02/2024\n",
    "Jean Raymond Mbad DIOUF\n",
    "\n",
    "                    DEVOIR PYTHON"
   ]
  },
  {
   "cell_type": "markdown",
   "metadata": {},
   "source": [
    "**Exercice 1**"
   ]
  },
  {
   "cell_type": "markdown",
   "metadata": {},
   "source": [
    "Méthode 1"
   ]
  },
  {
   "cell_type": "code",
   "execution_count": 32,
   "metadata": {},
   "outputs": [
    {
     "name": "stdout",
     "output_type": "stream",
     "text": [
      "1,2,3,4,7,13,15:DIOUF_Jean Raymond Mbad_Master 1 IA\n",
      "None\n"
     ]
    }
   ],
   "source": [
    "def transform(chain):\n",
    "    # votre programme ici\n",
    "    for str_num in chain:\n",
    "        nums = [int(i) for i in f\"{str_num}\".split(',')] \n",
    "        sortedNums = [int(i) for i in f\"{str_num}\".split(',')] \n",
    "        sortedNums.sort()\n",
    "\n",
    "        if (sortedNums != nums):\n",
    "            return None\n",
    "\n",
    "    numbers = [int(i) for i in f\"{chain[0]},{chain[1]}\".split(',')]\n",
    "\n",
    "    uniqueNums = list(set(numbers))\n",
    "\n",
    "    uniqueNums.sort()\n",
    "\n",
    "    sortedNumsStr = \",\".join([str(i) for i in uniqueNums])\n",
    "    return f\"{sortedNumsStr}:DIOUF_Jean Raymond Mbad_Master 1 IA\"\n",
    "\n",
    "# vous ne modifierez rien après cette ligne\n",
    "if __name__ == \"__main__\":\n",
    "    arr1 = [\"1, 3, 4, 7, 13\", \"1, 2, 4, 13, 15\"]\n",
    "    out = transform(arr1)\n",
    "    print(out) # doit afficher ---> 31,4,1:nom_prenom_classe\n",
    "    arr3 = [\"9, 3, 5, 7, 14\", \"10, 2, 6, 16, 15\"]\n",
    "    out = transform(arr3)\n",
    "    print(out) # doit afficher ---> None"
   ]
  },
  {
   "cell_type": "markdown",
   "metadata": {},
   "source": [
    "Méthode 2"
   ]
  },
  {
   "cell_type": "code",
   "execution_count": 33,
   "metadata": {},
   "outputs": [
    {
     "name": "stdout",
     "output_type": "stream",
     "text": [
      "1,2,3,4,7,13,15:DIOUF_Jean Raymond Mbad_Master 1 IA\n",
      "None\n"
     ]
    }
   ],
   "source": [
    "def extract_nums_from_str(chain):\n",
    "    listOfNums = []\n",
    "    for c in chain.split(',') :\n",
    "       listOfNums.append(int(c)) \n",
    "    return listOfNums\n",
    "\n",
    "def join_nums_in_str(num_lst):\n",
    "    out_str = \"\"\n",
    "    for i in num_lst:\n",
    "        out_str += f\"{str(i)},\"\n",
    "    return out_str[:-1]\n",
    "\n",
    "def transform(chain):\n",
    "    # votre programme ici\n",
    "    for str_num in chain:\n",
    "        nums = extract_nums_from_str(str_num) \n",
    "        sortedNums = extract_nums_from_str(str_num)\n",
    "        sortedNums.sort()\n",
    "\n",
    "        if (sortedNums != nums):\n",
    "            return None\n",
    "\n",
    "    numbers = extract_nums_from_str(f\"{chain[0]},{chain[1]}\")\n",
    "\n",
    "    uniqueNums = list(dict.fromkeys(numbers))\n",
    "\n",
    "    uniqueNums.sort()\n",
    "\n",
    "    sortedNumsStr = join_nums_in_str(uniqueNums)\n",
    "    return f\"{sortedNumsStr}:DIOUF_Jean Raymond Mbad_Master 1 IA\"\n",
    "\n",
    "# vous ne modifierez rien après cette ligne\n",
    "if __name__ == \"__main__\":\n",
    "    arr1 = [\"1, 3, 4, 7, 13\", \"1, 2, 4, 13, 15\"]\n",
    "    out = transform(arr1)\n",
    "    print(out) # doit afficher ---> 31,4,1:nom_prenom_classe\n",
    "    arr3 = [\"9, 3, 5, 7, 14\", \"10, 2, 6, 16, 15\"]\n",
    "    out = transform(arr3)\n",
    "    print(out) # doit afficher ---> None"
   ]
  },
  {
   "cell_type": "markdown",
   "metadata": {},
   "source": [
    "**Exercice 2**"
   ]
  },
  {
   "cell_type": "code",
   "execution_count": 34,
   "metadata": {},
   "outputs": [
    {
     "name": "stdout",
     "output_type": "stream",
     "text": [
      "[1200, 1335, 1470, 1605, 1740, 1875]\n",
      "[2400, 2940, 3480]\n",
      "[2, 4, 6, 8]\n",
      "[1, 3, 5, 7, 9]\n"
     ]
    }
   ],
   "source": [
    "lst1 = []\n",
    "\n",
    "for i in range(1200, 2000):\n",
    "    if (i- 1200) % 135 == 0 :\n",
    "        lst1.append(i)\n",
    "    else:\n",
    "        continue\n",
    "\n",
    "lst2 = []\n",
    "\n",
    "for i in lst1 :\n",
    "    if (i % 2) == 0:\n",
    "        lst2.append(2*i)\n",
    "\n",
    "numbers = (1, 2, 3, 4, 5, 6, 7, 8, 9)\n",
    "\n",
    "o = []\n",
    "e=[]\n",
    "for i in numbers:\n",
    "    if i % 2 == 0:\n",
    "        o.append(i)\n",
    "    else:\n",
    "        e.append(i)\n",
    "\n",
    "print(lst1)\n",
    "print(lst2)\n",
    "print(o)\n",
    "print(e)"
   ]
  },
  {
   "cell_type": "markdown",
   "metadata": {},
   "source": [
    "Autre méthode d'addition de deux entiers -> avec l'opérateur xor binaire (bit à bit). les retenues à ajouter sont détectables avec un 'and' binaire (&). La retenue de 1 est pour le bit suivant en allant vers la gauche"
   ]
  },
  {
   "cell_type": "code",
   "execution_count": 35,
   "metadata": {},
   "outputs": [
    {
     "name": "stdout",
     "output_type": "stream",
     "text": [
      "0b11001\n",
      "0b1100\n",
      "Somme bit à bit avec xor binaire en partant de la droite. les retenues à ajouter sont détectables avec un 'and' binaire \n",
      "1\n",
      "0\n",
      "1\n",
      "0\n",
      "0\n",
      "1\n",
      "Le résultat : 0b100101 en binaire qui vaut 37 en base 10\n"
     ]
    }
   ],
   "source": [
    "x1 = 25\n",
    "x2 = 12\n",
    "print(bin(x1))\n",
    "print(bin(x2))\n",
    "# bit le plus faible à droite\n",
    "print (\"Somme bit à bit avec xor binaire en partant de la droite. les retenues à ajouter sont détectables avec un 'and' binaire \")\n",
    "print(0b1^0b0) # donne 1 sans retenue\n",
    "print(0b0^0b0) # donne 0 sans retenue\n",
    "print(0b0^0b1) # donne 1 sans retenue\n",
    "print(0b1^0b1) # donne 0 avec retenue de 1 au bit suivant\n",
    "print(0b1^0b1) # donne 0 avec retenue de 1 au bit suivant\n",
    "print(0b1) # la dernière retenue\n",
    "# Le résultat est donc\n",
    "print (f\"Le résultat : {bin(0b100101)} en binaire qui vaut {int(0b100101)} en base 10\")\n"
   ]
  },
  {
   "cell_type": "markdown",
   "metadata": {},
   "source": [
    "**Exercice 3**"
   ]
  },
  {
   "cell_type": "code",
   "execution_count": 37,
   "metadata": {},
   "outputs": [
    {
     "name": "stdout",
     "output_type": "stream",
     "text": [
      "Valeur manquante : 2\n"
     ]
    }
   ],
   "source": [
    "def missing_num(tab):\n",
    "    for idx,i in enumerate(tab):\n",
    "        if idx<len(tab)-1 and tab[idx + 1] != i+1:\n",
    "            print(f\"Valeur manquante : {i+1}\")\n",
    "\n",
    "\n",
    "missing_num([1,3,4,5,6])"
   ]
  }
 ],
 "metadata": {
  "kernelspec": {
   "display_name": "DIT_PY12",
   "language": "python",
   "name": "python3"
  },
  "language_info": {
   "codemirror_mode": {
    "name": "ipython",
    "version": 3
   },
   "file_extension": ".py",
   "mimetype": "text/x-python",
   "name": "python",
   "nbconvert_exporter": "python",
   "pygments_lexer": "ipython3",
   "version": "3.12.0"
  }
 },
 "nbformat": 4,
 "nbformat_minor": 2
}
